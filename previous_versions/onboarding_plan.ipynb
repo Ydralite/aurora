{
 "cells": [
  {
   "cell_type": "code",
   "execution_count": 13,
   "id": "53cb8075-be0c-452d-a1d0-0eeaec457a03",
   "metadata": {
    "tags": []
   },
   "outputs": [],
   "source": [
    "import os\n",
    "from os.path import join\n",
    "import json\n",
    "import openai\n",
    "from IPython.display import display, Markdown\n",
    "\n",
    "# chatOpenAI within langchain\n",
    "from langchain.chat_models import ChatOpenAI\n",
    "from langchain.chat_models import AzureChatOpenAI\n",
    "\n",
    "# prompt template refers to a reproducible way to generate a prompt\n",
    "from langchain.prompts import ChatPromptTemplate\n",
    "\n",
    "# LangChain for question answering over a list of documents\n",
    "from langchain.chains import RetrievalQA\n",
    "\n",
    "# Load data from a source as Document's. A Document is a piece of text and associated metadata.\n",
    "from langchain.document_loaders import CSVLoader\n",
    "\n",
    "# DocArrayInMemorySearch is a document index provided by Docarray that stores documents in memory\n",
    "from langchain.vectorstores import DocArrayInMemorySearch\n",
    "\n",
    "\n",
    "#takes care of storing embedded data and performing vector search for you\n",
    "from langchain.indexes import VectorstoreIndexCreator\n",
    "\n",
    "#pdf loader\n",
    "from langchain.document_loaders import PyPDFLoader\n",
    "\n",
    "# QA evaluator\n",
    "from langchain.evaluation.qa import QAGenerateChain\n",
    "from langchain.prompts import PromptTemplate\n",
    "from langchain.chains.question_answering import load_qa_chain\n",
    "from langchain.text_splitter import CharacterTextSplitter\n",
    "\n",
    "from langchain.chains import SequentialChain\n",
    "from langchain.chains import SimpleSequentialChain\n",
    "from langchain.memory import ConversationSummaryMemory\n",
    "from langchain.memory import ConversationBufferMemory"
   ]
  },
  {
   "cell_type": "markdown",
   "id": "0500b5fb-3a37-4815-bd5c-f84b01e389e3",
   "metadata": {},
   "source": [
    "# environment variables"
   ]
  },
  {
   "cell_type": "code",
   "execution_count": 2,
   "id": "5977ef7b-8006-42d8-9c9e-f1b83f528bb9",
   "metadata": {
    "tags": []
   },
   "outputs": [],
   "source": [
    "CURRENT_PATH = os.getcwd()\n",
    "CONFIG_FILE = \"config.json\"\n",
    "\n",
    "# Load Config File\n",
    "with open(join(CURRENT_PATH, CONFIG_FILE)) as file:\n",
    "    # Load the JSON data\n",
    "    config = json.load(file)\n",
    "\n",
    "# Environmental Variables\n",
    "AZURE_OPENAI_KEY = config['AZURE_OPENAI_KEY']\n",
    "AZURE_OPENAI_ENDPOINT = config['AZURE_OPENAI_ENDPOINT']\n",
    "AZURE_ENGINE_NAME = config['AZURE_ENGINE_NAME']\n",
    "AZURE_ADA_NAME = config['AZURE_ADA_NAME']\n",
    "AZURE_ADA_ENDPOINT = config['AZURE_ADA_ENDPOINT']\n",
    "AZURE_ADA_KEY = config['AZURE_ADA_KEY']\n",
    "\n",
    "# OpenAI ADA API embeddings \n",
    "openai_ada_key = AZURE_ADA_KEY\n",
    "openai_ada_base = AZURE_ADA_ENDPOINT\n",
    "openai_ada_deployment = AZURE_ADA_NAME\n",
    "openai_api_type = 'azure'\n",
    "openai_api_key = AZURE_OPENAI_KEY"
   ]
  },
  {
   "cell_type": "code",
   "execution_count": 3,
   "id": "60b7d109-e9ae-4a4e-aef6-eb7f7f0243ab",
   "metadata": {
    "tags": []
   },
   "outputs": [],
   "source": [
    "ai=AzureChatOpenAI(openai_api_base=AZURE_OPENAI_ENDPOINT\n",
    "         ,openai_api_key=AZURE_OPENAI_KEY\n",
    "         ,openai_api_type='azure'\n",
    "         ,openai_api_version=\"2023-05-15\"\n",
    "         ,deployment_name =AZURE_ENGINE_NAME\n",
    "         ,model = \"gpt-3.5-turbo\"\n",
    "         ,temperature=0.1\n",
    "    )"
   ]
  },
  {
   "cell_type": "markdown",
   "id": "97e2740a-a869-4d71-88b1-6d0af24401e3",
   "metadata": {},
   "source": [
    "# load documents"
   ]
  },
  {
   "cell_type": "code",
   "execution_count": 4,
   "id": "7fca333c-ce07-4cd1-9c99-5bfa115d4741",
   "metadata": {
    "tags": []
   },
   "outputs": [],
   "source": [
    "PATH = 'onboarding docs'\n",
    "FILE = 'chart_valve.json'"
   ]
  },
  {
   "cell_type": "code",
   "execution_count": 5,
   "id": "906b1e4b-a5d0-4cc6-9697-5d8992ebe800",
   "metadata": {
    "tags": []
   },
   "outputs": [],
   "source": [
    "# load JSON\n",
    "import json\n",
    "chart_file = json.load(open(join(PATH,FILE)))\n",
    "chart_file=json.dumps(chart_file).split(\"key\")"
   ]
  },
  {
   "cell_type": "markdown",
   "id": "cb1e0d20-82a4-42e4-a90d-2ad220577dde",
   "metadata": {
    "tags": []
   },
   "source": [
    "# embedding & vectorstore"
   ]
  },
  {
   "cell_type": "code",
   "execution_count": 6,
   "id": "8929ff8f-706f-42ce-8523-8b4db8e3d4b5",
   "metadata": {
    "tags": []
   },
   "outputs": [],
   "source": [
    "from langchain.embeddings.openai import OpenAIEmbeddings\n",
    "embedding=OpenAIEmbeddings(openai_api_key=openai_ada_key\n",
    "                              , openai_api_base = openai_ada_base\n",
    "                              , deployment = openai_ada_deployment\n",
    "                              , openai_api_type = openai_api_type\n",
    "                              ,chunk_size=1)"
   ]
  },
  {
   "cell_type": "code",
   "execution_count": 7,
   "id": "06c83aba-335a-4992-aaf7-7d11e58784ee",
   "metadata": {
    "tags": []
   },
   "outputs": [
    {
     "name": "stderr",
     "output_type": "stream",
     "text": [
      "Retrying langchain.embeddings.openai.embed_with_retry.<locals>._embed_with_retry in 4.0 seconds as it raised RateLimitError: Requests to the Embeddings_Create Operation under Azure OpenAI API version 2022-12-01 have exceeded call rate limit of your current OpenAI S0 pricing tier. Please retry after 7 seconds. Please go here: https://aka.ms/oai/quotaincrease if you would like to further increase the default rate limit..\n",
      "Retrying langchain.embeddings.openai.embed_with_retry.<locals>._embed_with_retry in 4.0 seconds as it raised RateLimitError: Requests to the Embeddings_Create Operation under Azure OpenAI API version 2022-12-01 have exceeded call rate limit of your current OpenAI S0 pricing tier. Please retry after 3 seconds. Please go here: https://aka.ms/oai/quotaincrease if you would like to further increase the default rate limit..\n",
      "Retrying langchain.embeddings.openai.embed_with_retry.<locals>._embed_with_retry in 4.0 seconds as it raised RateLimitError: Requests to the Embeddings_Create Operation under Azure OpenAI API version 2022-12-01 have exceeded call rate limit of your current OpenAI S0 pricing tier. Please retry after 7 seconds. Please go here: https://aka.ms/oai/quotaincrease if you would like to further increase the default rate limit..\n",
      "Retrying langchain.embeddings.openai.embed_with_retry.<locals>._embed_with_retry in 4.0 seconds as it raised RateLimitError: Requests to the Embeddings_Create Operation under Azure OpenAI API version 2022-12-01 have exceeded call rate limit of your current OpenAI S0 pricing tier. Please retry after 3 seconds. Please go here: https://aka.ms/oai/quotaincrease if you would like to further increase the default rate limit..\n"
     ]
    }
   ],
   "source": [
    "from langchain.vectorstores import Chroma\n",
    "\n",
    "persist_directory='docs/chroma'\n",
    "vectordb_chart=Chroma.from_texts(\n",
    "    texts=chart_file,\n",
    "    embedding=embedding,\n",
    "    persist_directory=persist_directory\n",
    ")"
   ]
  },
  {
   "cell_type": "markdown",
   "id": "66a999f1-ca48-47fc-bbf7-8e96960f7745",
   "metadata": {},
   "source": [
    "# retriever"
   ]
  },
  {
   "cell_type": "code",
   "execution_count": 8,
   "id": "8ee97b30-b5be-4f86-8567-280c913264da",
   "metadata": {
    "tags": []
   },
   "outputs": [],
   "source": [
    "retriever = vectordb_chart.as_retriever(search_type=\"similarity\")"
   ]
  },
  {
   "cell_type": "markdown",
   "id": "37d95115-1a52-4656-b6e1-39f027ce2db0",
   "metadata": {},
   "source": [
    "# memory"
   ]
  },
  {
   "cell_type": "code",
   "execution_count": 9,
   "id": "aa322d98-429a-49fa-b2c6-1e2dba9f18fc",
   "metadata": {
    "tags": []
   },
   "outputs": [],
   "source": [
    "memory_developmentplan = ConversationSummaryMemory(memory_key=\"chat_history\", llm=AzureChatOpenAI(openai_api_base=AZURE_OPENAI_ENDPOINT\n",
    "         ,openai_api_key=AZURE_OPENAI_KEY\n",
    "         ,openai_api_type='azure'\n",
    "         ,openai_api_version=\"2023-05-15\"\n",
    "         ,deployment_name =AZURE_ENGINE_NAME\n",
    "         ,model = \"gpt-3.5-turbo\"\n",
    "         ,temperature=0.1\n",
    "    ), return_messages=True, input_key=\"leader\")"
   ]
  },
  {
   "cell_type": "markdown",
   "id": "e96b02af-90f0-46de-a433-18d16d0508f9",
   "metadata": {},
   "source": [
    "# plan"
   ]
  },
  {
   "cell_type": "code",
   "execution_count": 45,
   "id": "0fb35581-8b2b-4fd9-95b2-6557fd7258bd",
   "metadata": {
    "tags": []
   },
   "outputs": [],
   "source": [
    "prompt_template = \"\"\"Given the following information, return a list of 5 role specific software/methods/skills for the new employee.\n",
    "\n",
    "leader: {leader}\n",
    "Context about leader:{context}\n",
    "Role:{role}\n",
    "Context about role:{area}\n",
    "\"\"\"\n",
    "PROMPT = PromptTemplate(\n",
    "    template=prompt_template, input_variables=[\"context\", \"leader\", \"area\", \"role\"]\n",
    ")\n",
    "chain_nw = load_qa_chain(ai, chain_type=\"stuff\", prompt=PROMPT, memory=memory_developmentplan, output_key=\"plan\")"
   ]
  },
  {
   "cell_type": "code",
   "execution_count": 46,
   "id": "6d02f1aa-6ba3-45a4-b823-9a162980a535",
   "metadata": {
    "tags": []
   },
   "outputs": [],
   "source": [
    "#Given the following information, give a recommendation of a development plan for a new employee working under the given leader.\n",
    "#In addition, return a list of 5 role specific software/methodology/skill for the new employee."
   ]
  },
  {
   "cell_type": "code",
   "execution_count": 47,
   "id": "bf979e65-e026-41c8-8982-fc8dd0358a57",
   "metadata": {
    "tags": []
   },
   "outputs": [],
   "source": [
    "leader=\"Richard Clark\"\n",
    "role=\"Business Analyst\" "
   ]
  },
  {
   "cell_type": "code",
   "execution_count": 48,
   "id": "db39e5b7-3d19-4e9a-8f9a-3620aeca55cf",
   "metadata": {
    "tags": []
   },
   "outputs": [
    {
     "data": {
      "text/plain": [
       "{'plan': \"1. Financial analysis software: The new employee should be proficient in using financial analysis software to analyze financial data, create reports, and make informed decisions. This skill is important for the role of a Business Analyst as they need to analyze financial data to identify trends and make recommendations for business improvement.\\n\\n2. Strategic decision-making: The new employee should have strong skills in strategic decision-making. This involves the ability to analyze data, assess risks and opportunities, and make informed decisions that align with the company's goals and objectives. This skill is crucial for a Business Analyst as they need to provide insights and recommendations to support strategic planning and decision-making.\\n\\n3. Market research: The new employee should be skilled in conducting market research to gather information about industry trends, customer preferences, and competitive landscape. This skill is important for a Business Analyst as they need to stay updated with market trends and identify potential opportunities for business growth.\\n\\n4. Partnership development: The new employee should have experience in identifying and fostering partnerships with other companies in the gaming industry. This skill is important for a Business Analyst as they need to collaborate with external stakeholders to expand the company's reach and bring more games and services to the platform.\\n\\n5. Data analysis: The new employee should be proficient in data analysis techniques and tools to extract insights from large datasets. This skill is important for a Business Analyst as they need to analyze data to identify patterns, trends, and opportunities for business improvement.\"}"
      ]
     },
     "execution_count": 48,
     "metadata": {},
     "output_type": "execute_result"
    }
   ],
   "source": [
    "chain_nw({\"input_documents\": [retriever.get_relevant_documents(leader)[0]]\n",
    "          ,\"area\": retriever.get_relevant_documents(role)\n",
    "          , \"leader\": leader, \"role\":role}, return_only_outputs=True)"
   ]
  },
  {
   "cell_type": "code",
   "execution_count": 102,
   "id": "58d9c3c5-e232-46e2-8067-dd34e6d06df2",
   "metadata": {
    "collapsed": true,
    "jupyter": {
     "outputs_hidden": true
    },
    "tags": []
   },
   "outputs": [
    {
     "data": {
      "text/plain": [
       "\"Based on the given information, here are 5 role-specific software/methods/skills for the new employee:\\n\\n1. Financial analysis: The new employee should have expertise in financial analysis to support financial operations, budgeting, and financial planning for the company.\\n\\n2. Strategic decision-making: The new employee should possess skills in strategic decision-making to assist in making informed decisions that support Valve's growth and investment initiatives.\\n\\n3. Partnership identification and fostering: The new employee should be skilled in identifying and fostering partnerships with other game developers, publishers, and hardware manufacturers to expand Valve's reach and bring more games and services to the Steam platform.\\n\\n4. Knowledge of the gaming industry and market trends: The new employee should have extensive knowledge of the gaming industry and market trends to stay updated and make informed business development decisions.\\n\\n5. Statistical analysis and data visualization: The new employee should be proficient in statistical analysis, data interpretation, and data visualization to extract meaningful insights from data and drive data-driven initiatives and optimization within Valve.\""
      ]
     },
     "execution_count": 102,
     "metadata": {},
     "output_type": "execute_result"
    }
   ],
   "source": [
    "#memory_developmentplan.chat_memory.messages[-1].content"
   ]
  },
  {
   "cell_type": "markdown",
   "id": "cb5283bd-6ed2-40d7-b22f-0a42f8198de6",
   "metadata": {},
   "source": [
    "# question+answer"
   ]
  },
  {
   "cell_type": "code",
   "execution_count": 66,
   "id": "8ef23ec7-3252-4327-a8ff-14fb8250a3db",
   "metadata": {
    "tags": []
   },
   "outputs": [],
   "source": [
    "from langchain.chains import ConversationChain\n",
    "from langchain.memory import ConversationBufferMemory\n",
    "\n",
    "convo=ConversationChain(llm=ai, verbose=False, memory=ConversationBufferMemory())\n",
    "\n",
    "intro=\"Give me 15 simple, theoretical questions+answers to evaluate knowledge aimed for someone with the role of \"\n",
    "format=\"; Return the answer in the following format: [{'query': 'insert question here', 'answer': 'insert answer here.'}]\"\n",
    "\n",
    "convo.predict(input=intro+role+format)\n",
    "questions=convo.memory.chat_memory.messages[-1].content\n",
    "questions=questions[questions.find('[{'):questions.rfind('}]')+len('}]')]"
   ]
  },
  {
   "cell_type": "code",
   "execution_count": 67,
   "id": "539a3547-80e7-420d-834e-1b06257c6163",
   "metadata": {
    "tags": []
   },
   "outputs": [
    {
     "data": {
      "text/plain": [
       "\"[{'query': 'What is the purpose of a SWOT analysis?', 'answer': 'A SWOT analysis is used to assess the strengths, weaknesses, opportunities, and threats of a business or project.'}]\\n2. [{'query': 'What is the difference between waterfall and agile methodologies?', 'answer': 'Waterfall is a sequential approach to project management, while agile is an iterative and flexible approach.'}]\\n3. [{'query': 'What is the significance of a use case diagram?', 'answer': 'A use case diagram visually represents the interactions between actors and the system, helping to understand system requirements.'}]\\n4. [{'query': 'What is the role of a business analyst in requirements gathering?', 'answer': 'A business analyst facilitates the elicitation, documentation, and validation of requirements from stakeholders.'}]\\n5. [{'query': 'What is the purpose of a feasibility study?', 'answer': 'A feasibility study assesses the viability of a project, considering technical, economic, and operational factors.'}]\\n6. [{'query': 'What is the difference between functional and non-functional requirements?', 'answer': 'Functional requirements define what the system should do, while non-functional requirements define how the system should perform.'}]\\n7. [{'query': 'What is a swimlane diagram used for?', 'answer': 'A swimlane diagram illustrates the responsibilities and interactions of different actors or departments in a process.'}]\\n8. [{'query': 'What is the purpose of a business process model?', 'answer': 'A business process model visually represents the flow of activities, decisions, and information within a business process.'}]\\n9. [{'query': 'What is the role of a business analyst in system testing?', 'answer': 'A business analyst helps define test scenarios, validate test results, and ensure that the system meets the specified requirements.'}]\\n10. [{'query': 'What is the difference between a use case and a user story?', 'answer': 'A use case describes the interactions between actors and the system, while a user story describes a specific user requirement in an agile project.'}]\\n11. [{'query': 'What is the purpose of a gap analysis?', 'answer': 'A gap analysis identifies the difference between the current state and the desired future state, helping to determine necessary changes.'}]\\n12. [{'query': 'What is the role of a business analyst in change management?', 'answer': 'A business analyst helps assess the impact of changes, identify stakeholders, and develop strategies for successful change implementation.'}]\\n13. [{'query': 'What is the significance of a data flow diagram?', 'answer': 'A data flow diagram visually represents the flow of data within a system, helping to understand data inputs, outputs, and processes.'}]\\n14. [{'query': 'What is the purpose of a business requirements document?', 'answer': 'A business requirements document captures the functional and non-functional requirements of a project, serving as a reference for development and testing.'}]\\n15. [{'query': 'What is the role of a business analyst in project management?', 'answer': 'A business analyst assists in project planning, monitoring progress, and ensuring that project deliverables align with business objectives.'}]\""
      ]
     },
     "execution_count": 67,
     "metadata": {},
     "output_type": "execute_result"
    }
   ],
   "source": [
    "questions"
   ]
  },
  {
   "cell_type": "code",
   "execution_count": 57,
   "id": "c2a6c57d-9219-462b-a53d-2a914e766474",
   "metadata": {
    "tags": []
   },
   "outputs": [],
   "source": [
    "s=convo.memory.chat_memory.messages[-1].content\n",
    "#s[s.find(start)+len(start):s.rfind(end)]"
   ]
  },
  {
   "cell_type": "code",
   "execution_count": 53,
   "id": "6277bc45-47c9-40c3-a8b7-c7a65e557f16",
   "metadata": {
    "tags": []
   },
   "outputs": [
    {
     "data": {
      "text/plain": [
       "\"[{'query': 'What are some commonly used financial analysis software?', 'answer': 'Some commonly used financial analysis software include Excel, QuickBooks, and Tableau.'}, {'query': 'How can financial analysis software be used to analyze financial data?', 'answer': 'Financial analysis software can be used to import and organize financial data, perform calculations and ratios, create visualizations and reports, and conduct scenario analysis.'}, {'query': 'How can financial analysis software help in making informed decisions?', 'answer': 'Financial analysis software can help in making informed decisions by providing accurate and up-to-date financial information, allowing for data-driven analysis and forecasting, and facilitating the identification of trends and patterns.'}, {'query': 'What are some key steps involved in strategic decision-making?', 'answer': 'Some key steps involved in strategic decision-making include conducting a SWOT analysis, evaluating potential risks and opportunities, setting clear objectives and goals, considering alternative courses of action, and monitoring and evaluating the outcomes.'}, {'query': 'How can strategic decision-making align with a company's goals and objectives?', 'answer': 'Strategic decision-making can align with a company's goals and objectives by considering the long-term vision and mission of the company, analyzing data and market trends to identify opportunities that support the company's strategic direction, and making decisions that prioritize the achievement of the company's goals.'}, {'query': 'What are some methods for conducting market research?', 'answer': 'Some methods for conducting market research include surveys, interviews, focus groups, observation, and analysis of secondary data sources such as industry reports and market studies.'}, {'query': 'How can market research help in identifying potential opportunities for business growth?', 'answer': 'Market research can help in identifying potential opportunities for business growth by providing insights into customer preferences and needs, identifying gaps in the market that can be filled by new products or services, and analyzing competitor strategies and market trends to identify areas of potential growth.'}, {'query': 'What are some strategies for identifying and fostering partnerships with other companies?', 'answer': 'Some strategies for identifying and fostering partnerships with other companies include networking and attending industry events, conducting research on potential partners, reaching out and initiating conversations, and developing mutually beneficial proposals and agreements.'}, {'query': 'How can partnership development help in expanding a company's reach in the gaming industry?', 'answer': 'Partnership development can help in expanding a company's reach in the gaming industry by leveraging the resources and expertise of partner companies, accessing new markets and customer segments, and collaborating on joint marketing and promotional activities.'}, {'query': 'What are some techniques for data analysis?', 'answer': 'Some techniques for data analysis include statistical analysis, data visualization, regression analysis, clustering, and predictive modeling.'}, {'query': 'How can data analysis help in identifying patterns and trends?', 'answer': 'Data analysis can help in identifying patterns and trends by examining the relationships between variables, visualizing data through charts and graphs, and applying statistical techniques to identify correlations and patterns in the data.'}, {'query': 'How can data analysis help in identifying opportunities for business improvement?', 'answer': 'Data analysis can help in identifying opportunities for business improvement by identifying inefficiencies or bottlenecks in processes, uncovering customer preferences and behaviors, and identifying areas of potential cost savings or revenue growth based on data insights.'}]\""
      ]
     },
     "execution_count": 53,
     "metadata": {},
     "output_type": "execute_result"
    }
   ],
   "source": [
    "s"
   ]
  },
  {
   "cell_type": "code",
   "execution_count": 28,
   "id": "66f9634d-0023-4e51-9a0b-13e654b63730",
   "metadata": {
    "tags": []
   },
   "outputs": [],
   "source": [
    "import re\n",
    "result=re.search('[{(.*)}]', convo.memory.chat_memory.messages[-1].content)"
   ]
  },
  {
   "cell_type": "code",
   "execution_count": 30,
   "id": "9972c3c8-fb19-413f-8515-119f6a7f4952",
   "metadata": {
    "tags": []
   },
   "outputs": [
    {
     "ename": "IndexError",
     "evalue": "no such group",
     "output_type": "error",
     "traceback": [
      "\u001b[1;31m---------------------------------------------------------------------------\u001b[0m",
      "\u001b[1;31mIndexError\u001b[0m                                Traceback (most recent call last)",
      "Cell \u001b[1;32mIn[30], line 1\u001b[0m\n\u001b[1;32m----> 1\u001b[0m \u001b[43mresult\u001b[49m\u001b[38;5;241;43m.\u001b[39;49m\u001b[43mgroup\u001b[49m\u001b[43m(\u001b[49m\u001b[38;5;241;43m1\u001b[39;49m\u001b[43m)\u001b[49m\n",
      "\u001b[1;31mIndexError\u001b[0m: no such group"
     ]
    }
   ],
   "source": [
    "result.group(1)"
   ]
  },
  {
   "cell_type": "markdown",
   "id": "e6543934-a895-4c89-b077-215be7537d92",
   "metadata": {},
   "source": [
    "# google search alternative"
   ]
  },
  {
   "cell_type": "code",
   "execution_count": 105,
   "id": "86774999-a23e-49b8-b6d0-899526ae2dee",
   "metadata": {
    "tags": []
   },
   "outputs": [],
   "source": [
    "#cool mas tem créditos muito limitados; no serpapi experimentei uns minutos e estourei 10 créditos em 100"
   ]
  },
  {
   "cell_type": "code",
   "execution_count": 10,
   "id": "4ad3da48-9d21-4bc0-8977-4b6406821dd6",
   "metadata": {
    "tags": []
   },
   "outputs": [],
   "source": [
    "from langchain.utilities import SerpAPIWrapper\n",
    "from langchain.tools import WikipediaQueryRun\n",
    "from langchain.utilities import WikipediaAPIWrapper"
   ]
  },
  {
   "cell_type": "code",
   "execution_count": 11,
   "id": "b6fb9c77-3791-4aa8-a66b-7916a09ca4f7",
   "metadata": {
    "tags": []
   },
   "outputs": [],
   "source": [
    "from langchain.agents import initialize_agent\n",
    "os.environ[\"SERPAPI_API_KEY\"]='6de7d45e94b2045d72dc0598c65046d475fe817aaeb2afad3e17038ac9154b64'\n",
    "os.environ[\"SERPER_API_KEY\"] = 'cb0eb32f73a1874b7bd65e2a55c3b6209d14bc07'"
   ]
  },
  {
   "cell_type": "code",
   "execution_count": 14,
   "id": "b0cfa669-eb4f-4195-b851-2bf5ae1e9d81",
   "metadata": {
    "tags": []
   },
   "outputs": [],
   "source": [
    "from langchain.agents import load_tools\n",
    "from langchain.agents import initialize_agent\n",
    "os.environ[\"SERPAPI_API_KEY\"]='6de7d45e94b2045d72dc0598c65046d475fe817aaeb2afad3e17038ac9154b64'\n",
    "os.environ[\"SERPER_API_KEY\"] = 'cb0eb32f73a1874b7bd65e2a55c3b6209d14bc07'\n",
    "tools = load_tools([\"serpapi\"], llm=ai) #\"serpapi\",\"wikipedia\",google-serper\n",
    "agent_1 = initialize_agent(tools, ai, agent=\"zero-shot-react-description\", verbose=True, memory=ConversationBufferMemory())"
   ]
  },
  {
   "cell_type": "code",
   "execution_count": 54,
   "id": "760a96da-de2b-4048-ac5d-9d290ea85bea",
   "metadata": {
    "tags": []
   },
   "outputs": [],
   "source": [
    "planner = load_chat_planner(ai)\n",
    "executor = load_agent_executor(ai, tools, verbose=False)\n",
    "agent = PlanAndExecute(planner=planner, executor=executor, verbose=False, memory=ConversationBufferMemory())"
   ]
  },
  {
   "cell_type": "code",
   "execution_count": 17,
   "id": "c62452a5-c89e-4f62-a61e-611ec71ad3e3",
   "metadata": {
    "tags": []
   },
   "outputs": [
    {
     "name": "stdout",
     "output_type": "stream",
     "text": [
      "\n",
      "\n",
      "\u001b[1m> Entering new AgentExecutor chain...\u001b[0m\n",
      "\u001b[32;1m\u001b[1;3mI should search for the technical methods, tools, and skills commonly used by business analysts.\n",
      "Action: Search\n",
      "Action Input: \"technical methods tools skills of Business Analyst\"\u001b[0m\n",
      "Observation: \u001b[36;1m\u001b[1;3mHere are some key technical skills that are valuable for business analysts:\u001b[0m\n",
      "Thought:\u001b[32;1m\u001b[1;3mI need to gather more information about these technical skills to provide a comprehensive answer.\n",
      "Action: Search\n",
      "Action Input: \"technical skills of business analysts\"\u001b[0m\n",
      "Observation: \u001b[36;1m\u001b[1;3mExamples of technical skills for business analysts · Proficiency in basic office applications · Knowledge of operating systems · Software testing ...\u001b[0m\n",
      "Thought:\u001b[32;1m\u001b[1;3mI have gathered enough information to provide a comprehensive answer.\n",
      "Final Answer: Some common technical methods, tools, and skills of a Business Analyst include proficiency in basic office applications, knowledge of operating systems, software testing, data analysis, and database querying.\u001b[0m\n",
      "\n",
      "\u001b[1m> Finished chain.\u001b[0m\n"
     ]
    },
    {
     "data": {
      "text/plain": [
       "'Some common technical methods, tools, and skills of a Business Analyst include proficiency in basic office applications, knowledge of operating systems, software testing, data analysis, and database querying.'"
      ]
     },
     "execution_count": 17,
     "metadata": {},
     "output_type": "execute_result"
    }
   ],
   "source": [
    "agent_1.run(\"5 technical methods/tools/skills of \"+role) "
   ]
  },
  {
   "cell_type": "code",
   "execution_count": 44,
   "id": "addf8eb2-11a2-4264-a477-6e1c8f549e97",
   "metadata": {
    "tags": []
   },
   "outputs": [
    {
     "name": "stdout",
     "output_type": "stream",
     "text": [
      "\n",
      "\n",
      "\u001b[1m> Entering new AgentExecutor chain...\u001b[0m\n",
      "\u001b[32;1m\u001b[1;3mI need to find a set of questions and answers related to Business Analyst.\n",
      "Action: Search\n",
      "Action Input: \"set of questions and answers for Business Analyst\"\u001b[0m\n",
      "Observation: \u001b[36;1m\u001b[1;3mBasic Business Analyst Interview Questions\u001b[0m\n",
      "Thought:\u001b[32;1m\u001b[1;3mThis seems like a good resource to start with, but I should keep searching for more comprehensive sets of questions and answers.\n",
      "Action: Search\n",
      "Action Input: \"comprehensive set of Business Analyst interview questions and answers\"\u001b[0m\n",
      "Observation: \u001b[36;1m\u001b[1;3mTop Business Analyst Interview Questions and Answers\u001b[0m\n",
      "Thought:\u001b[32;1m\u001b[1;3mThis resource seems to have a more comprehensive set of questions and answers for Business Analyst interviews. I should review these questions to find the ones that are most relevant to my needs.\n",
      "Action: Search\n",
      "Action Input: \"Business Analyst interview questions and answers pdf\"\u001b[0m\n",
      "Observation: \u001b[36;1m\u001b[1;3m100+ Business Analyst Interview Questions and Answers (2023) · 1) What is a flowchart? · 2) Define the Use Case Model · 3) What does UML stand for?\u001b[0m\n",
      "Thought:\u001b[32;1m\u001b[1;3mThis PDF seems to have a large collection of Business Analyst interview questions and answers. I should review this document to find the specific questions I need.\n",
      "Action: Search\n",
      "Action Input: \"Business Analyst interview questions and answers with explanations\"\u001b[0m\n",
      "Observation: \u001b[36;1m\u001b[1;3mAspiring to be a professional business analyst? Check out these top 30 Business Analyst interview questions and answers and stay ahead of ...\u001b[0m\n",
      "Thought:\u001b[32;1m\u001b[1;3mThis resource seems to have a more focused set of Business Analyst interview questions and answers with explanations. I should review these questions to find the ones that are most relevant to my needs.\n",
      "Action: Search\n",
      "Action Input: \"Business Analyst interview questions and answers with examples\"\u001b[0m\n",
      "Observation: \u001b[36;1m\u001b[1;3m6 Common Business Analyst Interview Questions\u001b[0m\n",
      "Thought:\u001b[32;1m\u001b[1;3mThis resource seems to have a smaller set of common Business Analyst interview questions. I should review these questions to see if they cover the topics I need.\n",
      "Action: Search\n",
      "Action Input: \"Business Analyst interview questions and answers for experienced professionals\"\u001b[0m\n",
      "Observation: \u001b[36;1m\u001b[1;3mList the core competencies of a Business Analyst. Q3. What is a Feasibility study? Q4. What are the different tools used in Business Analytics?\u001b[0m\n",
      "Thought:\u001b[32;1m\u001b[1;3mThis resource seems to have a set of Business Analyst interview questions and answers specifically for experienced professionals. I should review these questions to see if they cover the topics I need.\n",
      "Action: Search\n",
      "Action Input: \"Business Analyst interview questions and answers for entry-level positions\"\u001b[0m\n",
      "Observation: \u001b[36;1m\u001b[1;3mBasic Business Analyst Interview Questions\u001b[0m\n",
      "Thought:\u001b[32;1m\u001b[1;3mThis resource seems to have a set of basic Business Analyst interview questions for entry-level positions. I should review these questions to see if they cover the topics I need.\n",
      "Action: Search\n",
      "Action Input: \"Business Analyst interview questions and answers for senior-level positions\"\u001b[0m\n",
      "Observation: \u001b[36;1m\u001b[1;3m10 senior business analyst interview questions and answers\u001b[0m\n",
      "Thought:\u001b[32;1m\u001b[1;3mThis resource seems to have a set of senior-level Business Analyst interview questions and answers. I should review these questions to see if they cover the topics I need.\n",
      "Action: Search\n",
      "Action Input: \"Business Analyst interview questions and answers for specific industries (e.g., healthcare, finance)\"\u001b[0m\n",
      "Observation: \u001b[36;1m\u001b[1;3mWe have compiled the top Business Analyst interview questions asked in various organizations to help you clear your interviews.\u001b[0m\n",
      "Thought:\u001b[32;1m\u001b[1;3mThis resource seems to have a compilation of Business Analyst interview questions asked in various organizations. I should review these questions to see if they cover the topics I need.\n",
      "Action: Search\n",
      "Action Input: \"Business Analyst interview questions and answers for healthcare industry\"\u001b[0m\n",
      "Observation: \u001b[36;1m\u001b[1;3mInterview questions and sample answers\u001b[0m\n",
      "Thought:\u001b[32;1m\u001b[1;3mThis resource seems to have a set of Business Analyst interview questions and sample answers specifically for the healthcare industry. I should review these questions to see if they cover the topics I need.\n",
      "Action: Search\n",
      "Action Input: \"Business Analyst interview questions and answers for finance industry\"\u001b[0m\n",
      "Observation: \u001b[36;1m\u001b[1;3mBasic Business Analyst Interview Questions\u001b[0m\n",
      "Thought:\u001b[32;1m\u001b[1;3mI have searched for various sets of Business Analyst interview questions and answers, including basic, comprehensive, experienced, entry-level, senior-level, and industry-specific questions. I have found multiple resources that provide different sets of questions and answers. I should review these resources to find the specific questions that are most relevant to my needs.\n",
      "\n",
      "Final Answer: I have found multiple sets of Business Analyst interview questions and answers that cover various topics and industries. I should review these resources to prepare for my interview.\u001b[0m\n",
      "\n",
      "\u001b[1m> Finished chain.\u001b[0m\n"
     ]
    },
    {
     "data": {
      "text/plain": [
       "'I have found multiple sets of Business Analyst interview questions and answers that cover various topics and industries. I should review these resources to prepare for my interview.'"
      ]
     },
     "execution_count": 44,
     "metadata": {},
     "output_type": "execute_result"
    }
   ],
   "source": [
    "agent_1.run(\"set of questions+answers containing 15 technical questions related to \"+role) "
   ]
  },
  {
   "cell_type": "code",
   "execution_count": 18,
   "id": "0eac61f3-e072-4d50-b780-fcb9124c5826",
   "metadata": {
    "tags": []
   },
   "outputs": [
    {
     "data": {
      "text/plain": [
       "[HumanMessage(content='5 technical methods/tools/skills of Business Analyst', additional_kwargs={}, example=False),\n",
       " AIMessage(content='Some common technical methods, tools, and skills of a Business Analyst include proficiency in basic office applications, knowledge of operating systems, software testing, data analysis, and database querying.', additional_kwargs={}, example=False)]"
      ]
     },
     "execution_count": 18,
     "metadata": {},
     "output_type": "execute_result"
    }
   ],
   "source": [
    "agent_1.memory.chat_memory.messages"
   ]
  },
  {
   "cell_type": "markdown",
   "id": "31f35c1f-69d9-4ebe-b69b-8890a6258a48",
   "metadata": {},
   "source": [
    "# option 2 - map_reduce"
   ]
  },
  {
   "cell_type": "code",
   "execution_count": 99,
   "id": "80082b32-ebe6-483e-9db6-48c0707c513e",
   "metadata": {
    "tags": []
   },
   "outputs": [],
   "source": [
    "question_prompt_template = \"\"\"Given the following information, give a recommendation of a development plan for a new employee working under the given leader.\n",
    "\n",
    "Leader: {leader}\n",
    "Context about Leader:{context}\n",
    "Role:{role}\n",
    "Context about role:{area}\n",
    "\"\"\"\n",
    "QUESTION_PROMPT = PromptTemplate(\n",
    "    template=question_prompt_template, input_variables=[\"context\", \"leader\", \"area\", \"role\"]\n",
    ")\n",
    "\n",
    "combine_prompt_template = \"\"\"Considering the following development plan, return specific knowledge and concepts that is distinctive from another functions in the company.\n",
    "\n",
    "Development plan: {summaries}\"\"\"\n",
    "COMBINE_PROMPT = PromptTemplate(\n",
    "    template=combine_prompt_template, input_variables=[\"summaries\"]\n",
    ")"
   ]
  },
  {
   "cell_type": "code",
   "execution_count": null,
   "id": "31bf9ab7-49be-4f9d-b09d-c7ff1015d037",
   "metadata": {},
   "outputs": [],
   "source": [
    "specific examples of concepts and techniques, with detailed explanations, that the new employee should know as a baseline, when starting his role"
   ]
  },
  {
   "cell_type": "code",
   "execution_count": 100,
   "id": "76c45c1f-d943-4a58-8781-c54acdbc2fcf",
   "metadata": {
    "tags": []
   },
   "outputs": [],
   "source": [
    "chain = load_qa_chain(ai, chain_type=\"map_reduce\", question_prompt=QUESTION_PROMPT, combine_prompt=COMBINE_PROMPT, return_map_steps=True)"
   ]
  },
  {
   "cell_type": "code",
   "execution_count": 101,
   "id": "bc1acde7-7500-4bc8-a3d0-0706b1d9ebd0",
   "metadata": {
    "tags": []
   },
   "outputs": [],
   "source": [
    "leader=\"Richard Clark, Finance Manager\"\n",
    "role=\"Business Analyst\" "
   ]
  },
  {
   "cell_type": "code",
   "execution_count": 98,
   "id": "7f19ee06-9814-40ce-96eb-3aab6578b43e",
   "metadata": {
    "tags": []
   },
   "outputs": [
    {
     "data": {
      "text/plain": [
       "[Document(page_content='\": 15, \"department\": \"Administrative\", \"title\": \"Finance Manager\", \"parent\": 10, \"name\": \"Richard Clark\", \"ask me about\": \"Richard Clark is the Finance Manager at Valve. He oversees financial operations, budgeting, and financial planning for the company. Richard\\'s expertise in financial analysis and strategic decision-making supports Valve\\'s growth and investment initiatives.\"}, {\"', metadata={})]"
      ]
     },
     "execution_count": 98,
     "metadata": {},
     "output_type": "execute_result"
    }
   ],
   "source": [
    "[retriever.get_relevant_documents(leader)[0]]"
   ]
  },
  {
   "cell_type": "code",
   "execution_count": 103,
   "id": "4148210c-ac1f-432f-9154-3c477a61621f",
   "metadata": {
    "tags": []
   },
   "outputs": [],
   "source": [
    "result=chain({\"input_documents\": [retriever.get_relevant_documents(leader)[0]]\n",
    "              ,\"leader\": leader\n",
    "              ,\"area\": retriever.get_relevant_documents(role) \n",
    "              ,\"role\":role}, return_only_outputs=True)"
   ]
  },
  {
   "cell_type": "code",
   "execution_count": 104,
   "id": "12dc2170-04d3-4377-b332-a0a76da8c5c4",
   "metadata": {
    "tags": []
   },
   "outputs": [
    {
     "data": {
      "text/plain": [
       "{'intermediate_steps': [\"Based on the given information, a development plan for a new employee working under Richard Clark, the Finance Manager, could include the following steps:\\n\\n1. Orientation and Familiarization: The new employee should be provided with an orientation session to understand the company's financial operations, budgeting processes, and financial planning strategies. This will help them gain a comprehensive understanding of the finance department's role within the organization.\\n\\n2. Shadowing and Observation: The new employee should have the opportunity to shadow Richard Clark and observe his day-to-day activities. This will allow them to learn from his expertise in financial analysis and strategic decision-making. They can also observe how he interacts with other departments and stakeholders.\\n\\n3. Training in Financial Analysis: Since Richard Clark is an expert in financial analysis, it would be beneficial for the new employee to receive training in this area. This could include courses or workshops on financial modeling, data analysis, and forecasting techniques. This will enhance their skills and enable them to contribute effectively to financial initiatives.\\n\\n4. Mentorship and Guidance: Richard Clark can act as a mentor to the new employee, providing guidance and support as they navigate their role as a Business Analyst. Regular check-ins and feedback sessions can help the employee understand their strengths and areas for improvement.\\n\\n5. Cross-Functional Exposure: To broaden their understanding of the company's operations, the new employee should be given opportunities to work on cross-functional projects or collaborate with other departments. This will help them gain a holistic view of the organization and develop their business acumen.\\n\\n6. Professional Development Opportunities: Encourage the new employee to attend industry conferences, webinars, or workshops related to business analysis and finance. This will allow them to stay updated on industry trends and best practices, further enhancing their skills and knowledge.\\n\\n7. Performance Evaluation and Feedback: Regular performance evaluations should be conducted to assess the new employee's progress and identify areas for further development. Constructive feedback should be provided to help them continuously improve and grow in their role.\\n\\nBy following this development plan, the new employee working under Richard Clark can acquire the necessary skills and knowledge to excel as a Business Analyst in the finance department at Valve.\"],\n",
       " 'output_text': \"Examples of concepts and techniques that the new employee should know as a baseline, based on the development plan, include:\\n\\n1. Financial Operations: The new employee should have a solid understanding of financial operations, including financial statements, cash flow management, and financial controls. They should be familiar with concepts such as revenue recognition, expense management, and financial reporting.\\n\\n2. Budgeting Processes: The new employee should be knowledgeable about budgeting processes, including the creation, monitoring, and analysis of budgets. They should understand how to develop budget assumptions, track actual performance against budgeted targets, and identify variances.\\n\\n3. Financial Planning Strategies: The new employee should be aware of different financial planning strategies, such as long-term financial forecasting, scenario analysis, and capital budgeting. They should understand how these strategies contribute to the organization's overall financial goals and objectives.\\n\\n4. Financial Modeling: Training in financial modeling will equip the new employee with the skills to create and analyze financial models. They should be proficient in using spreadsheet software, such as Microsoft Excel, to build models that can project financial outcomes based on different assumptions and scenarios.\\n\\n5. Data Analysis: The new employee should have a strong foundation in data analysis techniques, including data manipulation, visualization, and interpretation. They should be able to analyze financial data to identify trends, patterns, and insights that can inform decision-making.\\n\\n6. Forecasting Techniques: The new employee should be familiar with various forecasting techniques, such as time series analysis, regression analysis, and Monte Carlo simulation. They should understand how to use these techniques to forecast financial performance and assess the impact of different variables on future outcomes.\\n\\n7. Business Acumen: Through cross-functional exposure and collaboration, the new employee should develop a strong business acumen. They should understand the interdependencies between different departments and how financial decisions impact the overall business strategy.\\n\\n8. Industry Knowledge: Attending industry conferences, webinars, and workshops will help the new employee stay updated on industry trends, regulations, and best practices. They should be knowledgeable about the latest developments in finance and business analysis to contribute effectively to the organization.\\n\\n9. Performance Evaluation: The new employee should be familiar with the performance evaluation process and understand how their performance will be assessed. They should be open to receiving constructive feedback and actively seek opportunities for improvement and growth.\\n\\nBy acquiring these concepts and techniques, the new employee will be well-equipped to fulfill their role as a Business Analyst in the finance department and contribute to the organization's financial success.\"}"
      ]
     },
     "execution_count": 104,
     "metadata": {},
     "output_type": "execute_result"
    }
   ],
   "source": [
    "result"
   ]
  },
  {
   "cell_type": "code",
   "execution_count": 81,
   "id": "420b0638-ed1f-4821-951e-e41669f42e5a",
   "metadata": {
    "tags": []
   },
   "outputs": [],
   "source": []
  },
  {
   "cell_type": "code",
   "execution_count": null,
   "id": "95648498-2d55-4616-8d9e-cd8dfa8224d4",
   "metadata": {},
   "outputs": [],
   "source": []
  },
  {
   "cell_type": "code",
   "execution_count": null,
   "id": "1e694224-fd77-42b9-af63-7a4ca1e03f7c",
   "metadata": {},
   "outputs": [],
   "source": []
  }
 ],
 "metadata": {
  "kernelspec": {
   "display_name": "Python 3 (ipykernel)",
   "language": "python",
   "name": "python3"
  },
  "language_info": {
   "codemirror_mode": {
    "name": "ipython",
    "version": 3
   },
   "file_extension": ".py",
   "mimetype": "text/x-python",
   "name": "python",
   "nbconvert_exporter": "python",
   "pygments_lexer": "ipython3",
   "version": "3.10.7"
  }
 },
 "nbformat": 4,
 "nbformat_minor": 5
}
