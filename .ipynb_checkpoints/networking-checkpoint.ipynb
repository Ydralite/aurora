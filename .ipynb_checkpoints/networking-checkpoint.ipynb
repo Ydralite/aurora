{
 "cells": [
  {
   "cell_type": "code",
   "execution_count": 128,
   "id": "53cb8075-be0c-452d-a1d0-0eeaec457a03",
   "metadata": {
    "tags": []
   },
   "outputs": [],
   "source": [
    "import os\n",
    "from os.path import join\n",
    "import json\n",
    "import openai\n",
    "from IPython.display import display, Markdown\n",
    "\n",
    "# chatOpenAI within langchain\n",
    "from langchain.chat_models import ChatOpenAI\n",
    "from langchain.chat_models import AzureChatOpenAI\n",
    "\n",
    "# prompt template refers to a reproducible way to generate a prompt\n",
    "from langchain.prompts import ChatPromptTemplate\n",
    "\n",
    "# LangChain for question answering over a list of documents\n",
    "from langchain.chains import RetrievalQA\n",
    "\n",
    "# Load data from a source as Document's. A Document is a piece of text and associated metadata.\n",
    "from langchain.document_loaders import CSVLoader\n",
    "\n",
    "# DocArrayInMemorySearch is a document index provided by Docarray that stores documents in memory\n",
    "from langchain.vectorstores import DocArrayInMemorySearch\n",
    "\n",
    "\n",
    "#takes care of storing embedded data and performing vector search for you\n",
    "from langchain.indexes import VectorstoreIndexCreator\n",
    "\n",
    "#pdf loader\n",
    "from langchain.document_loaders import PyPDFLoader\n",
    "\n",
    "# QA evaluator\n",
    "from langchain.evaluation.qa import QAGenerateChain\n",
    "from langchain.prompts import PromptTemplate\n",
    "from langchain.chains.question_answering import load_qa_chain\n"
   ]
  },
  {
   "cell_type": "markdown",
   "id": "0500b5fb-3a37-4815-bd5c-f84b01e389e3",
   "metadata": {},
   "source": [
    "# environment variables"
   ]
  },
  {
   "cell_type": "code",
   "execution_count": 2,
   "id": "5977ef7b-8006-42d8-9c9e-f1b83f528bb9",
   "metadata": {
    "tags": []
   },
   "outputs": [],
   "source": [
    "CURRENT_PATH = os.getcwd()\n",
    "CONFIG_FILE = \"config.json\"\n",
    "\n",
    "# Load Config File\n",
    "with open(join(CURRENT_PATH, CONFIG_FILE)) as file:\n",
    "    # Load the JSON data\n",
    "    config = json.load(file)\n",
    "\n",
    "# Environmental Variables\n",
    "AZURE_OPENAI_KEY = config['AZURE_OPENAI_KEY']\n",
    "AZURE_OPENAI_ENDPOINT = config['AZURE_OPENAI_ENDPOINT']\n",
    "AZURE_ENGINE_NAME = config['AZURE_ENGINE_NAME']\n",
    "AZURE_ADA_NAME = config['AZURE_ADA_NAME']\n",
    "AZURE_ADA_ENDPOINT = config['AZURE_ADA_ENDPOINT']\n",
    "AZURE_ADA_KEY = config['AZURE_ADA_KEY']\n",
    "\n",
    "# OpenAI ADA API embeddings \n",
    "openai_ada_key = AZURE_ADA_KEY\n",
    "openai_ada_base = AZURE_ADA_ENDPOINT\n",
    "openai_ada_deployment = AZURE_ADA_NAME\n",
    "openai_api_type = 'azure'\n",
    "openai_api_key = AZURE_OPENAI_KEY"
   ]
  },
  {
   "cell_type": "code",
   "execution_count": 3,
   "id": "60b7d109-e9ae-4a4e-aef6-eb7f7f0243ab",
   "metadata": {
    "tags": []
   },
   "outputs": [],
   "source": [
    "ai=AzureChatOpenAI(openai_api_base=AZURE_OPENAI_ENDPOINT\n",
    "         ,openai_api_key=AZURE_OPENAI_KEY\n",
    "         ,openai_api_type='azure'\n",
    "         ,openai_api_version=\"2023-05-15\"\n",
    "         ,deployment_name =AZURE_ENGINE_NAME\n",
    "         ,model = \"gpt-3.5-turbo\"\n",
    "         ,temperature=0.1\n",
    "    )"
   ]
  },
  {
   "cell_type": "markdown",
   "id": "97e2740a-a869-4d71-88b1-6d0af24401e3",
   "metadata": {},
   "source": [
    "# load documents"
   ]
  },
  {
   "cell_type": "code",
   "execution_count": 99,
   "id": "db7e99f0-3b2c-4293-bf62-c56b3bbe1bd6",
   "metadata": {
    "tags": []
   },
   "outputs": [],
   "source": [
    "HANDBOOK_PATH = 'onboarding docs'\n",
    "HANDBOOK_FILE = 'chart_valve.json'"
   ]
  },
  {
   "cell_type": "code",
   "execution_count": 100,
   "id": "906b1e4b-a5d0-4cc6-9697-5d8992ebe800",
   "metadata": {
    "tags": []
   },
   "outputs": [],
   "source": [
    "# load JSON\n",
    "import json\n",
    "file = json.load(open(join(HANDBOOK_PATH,HANDBOOK_FILE)))"
   ]
  },
  {
   "cell_type": "code",
   "execution_count": 133,
   "id": "c9edcd88-ffcf-4796-9bd5-268245088c75",
   "metadata": {
    "tags": []
   },
   "outputs": [],
   "source": [
    "docs=docum.split(\"key\")"
   ]
  },
  {
   "cell_type": "markdown",
   "id": "cb1e0d20-82a4-42e4-a90d-2ad220577dde",
   "metadata": {
    "tags": []
   },
   "source": [
    "# embedding & vectorstore"
   ]
  },
  {
   "cell_type": "code",
   "execution_count": 104,
   "id": "8929ff8f-706f-42ce-8523-8b4db8e3d4b5",
   "metadata": {
    "tags": []
   },
   "outputs": [],
   "source": [
    "from langchain.embeddings.openai import OpenAIEmbeddings\n",
    "embedding=OpenAIEmbeddings(openai_api_key=openai_ada_key\n",
    "                              , openai_api_base = openai_ada_base\n",
    "                              , deployment = openai_ada_deployment\n",
    "                              , openai_api_type = openai_api_type\n",
    "                              ,chunk_size=1)"
   ]
  },
  {
   "cell_type": "code",
   "execution_count": 105,
   "id": "06c83aba-335a-4992-aaf7-7d11e58784ee",
   "metadata": {
    "tags": []
   },
   "outputs": [
    {
     "name": "stderr",
     "output_type": "stream",
     "text": [
      "Retrying langchain.embeddings.openai.embed_with_retry.<locals>._embed_with_retry in 4.0 seconds as it raised RateLimitError: Requests to the Embeddings_Create Operation under Azure OpenAI API version 2022-12-01 have exceeded call rate limit of your current OpenAI S0 pricing tier. Please retry after 7 seconds. Please go here: https://aka.ms/oai/quotaincrease if you would like to further increase the default rate limit..\n",
      "Retrying langchain.embeddings.openai.embed_with_retry.<locals>._embed_with_retry in 4.0 seconds as it raised RateLimitError: Requests to the Embeddings_Create Operation under Azure OpenAI API version 2022-12-01 have exceeded call rate limit of your current OpenAI S0 pricing tier. Please retry after 3 seconds. Please go here: https://aka.ms/oai/quotaincrease if you would like to further increase the default rate limit..\n",
      "Retrying langchain.embeddings.openai.embed_with_retry.<locals>._embed_with_retry in 4.0 seconds as it raised RateLimitError: Requests to the Embeddings_Create Operation under Azure OpenAI API version 2022-12-01 have exceeded call rate limit of your current OpenAI S0 pricing tier. Please retry after 7 seconds. Please go here: https://aka.ms/oai/quotaincrease if you would like to further increase the default rate limit..\n",
      "Retrying langchain.embeddings.openai.embed_with_retry.<locals>._embed_with_retry in 4.0 seconds as it raised RateLimitError: Requests to the Embeddings_Create Operation under Azure OpenAI API version 2022-12-01 have exceeded call rate limit of your current OpenAI S0 pricing tier. Please retry after 3 seconds. Please go here: https://aka.ms/oai/quotaincrease if you would like to further increase the default rate limit..\n"
     ]
    }
   ],
   "source": [
    "from langchain.vectorstores import Chroma\n",
    "\n",
    "persist_directory='docs/chroma'\n",
    "vectordb=Chroma.from_texts(\n",
    "    texts=docs,\n",
    "    embedding=embedding,\n",
    "    persist_directory=persist_directory\n",
    ")"
   ]
  },
  {
   "cell_type": "code",
   "execution_count": 106,
   "id": "7045b7b6-7ef1-4359-bd8e-3515b786452f",
   "metadata": {
    "tags": []
   },
   "outputs": [
    {
     "name": "stdout",
     "output_type": "stream",
     "text": [
      "41\n"
     ]
    }
   ],
   "source": [
    "print(vectordb._collection.count())"
   ]
  },
  {
   "cell_type": "code",
   "execution_count": 135,
   "id": "0aa99ab0-b62c-4d04-b3a4-50d19f190135",
   "metadata": {
    "tags": []
   },
   "outputs": [
    {
     "data": {
      "text/plain": [
       "<langchain.vectorstores.chroma.Chroma at 0x21501bf9ad0>"
      ]
     },
     "execution_count": 135,
     "metadata": {},
     "output_type": "execute_result"
    }
   ],
   "source": [
    "vectordb"
   ]
  },
  {
   "cell_type": "markdown",
   "id": "c8e637a3-68e3-44a0-8d79-6e6b3308f733",
   "metadata": {},
   "source": [
    "# similarity"
   ]
  },
  {
   "cell_type": "code",
   "execution_count": null,
   "id": "b8b22f9a-15e5-422b-81a6-ba7bcae896d2",
   "metadata": {
    "tags": []
   },
   "outputs": [],
   "source": [
    "#returns chunk with the highest similarity to the question (or top n chunks)"
   ]
  },
  {
   "cell_type": "code",
   "execution_count": 159,
   "id": "a559c6e5-8f95-4825-a015-2fd72a0a3dad",
   "metadata": {
    "tags": []
   },
   "outputs": [],
   "source": [
    "question = \"Michelle\"\n",
    "docs1 = vectordb.similarity_search(question,k=3)"
   ]
  },
  {
   "cell_type": "code",
   "execution_count": 120,
   "id": "5217ebed-1e46-48fc-a99b-b162d5872ebf",
   "metadata": {
    "tags": []
   },
   "outputs": [],
   "source": [
    "#len(docs)"
   ]
  },
  {
   "cell_type": "code",
   "execution_count": 121,
   "id": "558e22ab-b906-4c58-a130-c0b76f92ad7e",
   "metadata": {
    "tags": []
   },
   "outputs": [
    {
     "data": {
      "text/plain": [
       "[Document(page_content='\": 11, \"department\": \"Design\", \"title\": \"Art Director\", \"parent\": 3, \"name\": \"Michelle Green\", \"ask me about\": \"Michelle Green is the Art Director at Valve. She oversees the art department, guiding the visual style and artistic direction of Valve\\'s games. Michelle has a strong background in concept art and visual design, contributing her expertise to games like Half-Life: Alyx and Team Fortress 2.\"}, \"', metadata={}),\n",
       " Document(page_content='\": 34, \"department\": \"Administrative\", \"title\": \"Project Manager\", \"parent\": 8, \"name\": \"Michelle Clark\", \"ask me about\": \"Michelle Clark is a Project Manager at Valve. She oversees and coordinates the planning and execution of various projects within Valve. Michelle\\'s expertise in project management methodologies, resource allocation, and risk assessment helps ensure the successful delivery of Valve\\'s initiatives.\"}, \"', metadata={}),\n",
       " Document(page_content='\": 4, \"department\": \"Design\", \"title\": \"Game Designer\", \"parent\": 3, \"name\": \"Michael Lewis\", \"ask me about\": \"Michael Lewis is a talented game designer within Valve. He specializes in creating immersive and engaging gameplay experiences. Michael has been involved in the design and development of games like Portal 2 and Dota 2, bringing his expertise in level design and player interaction to the projects.\"}, \"', metadata={})]"
      ]
     },
     "execution_count": 121,
     "metadata": {},
     "output_type": "execute_result"
    }
   ],
   "source": [
    "docs1"
   ]
  },
  {
   "cell_type": "code",
   "execution_count": 122,
   "id": "bbed97b6-da6a-4d66-8f72-8fdfbb5fa4ed",
   "metadata": {
    "tags": []
   },
   "outputs": [
    {
     "data": {
      "text/plain": [
       "'\": 11, \"department\": \"Design\", \"title\": \"Art Director\", \"parent\": 3, \"name\": \"Michelle Green\", \"ask me about\": \"Michelle Green is the Art Director at Valve. She oversees the art department, guiding the visual style and artistic direction of Valve\\'s games. Michelle has a strong background in concept art and visual design, contributing her expertise to games like Half-Life: Alyx and Team Fortress 2.\"}, \"'"
      ]
     },
     "execution_count": 122,
     "metadata": {},
     "output_type": "execute_result"
    }
   ],
   "source": [
    "docs1[0].page_content"
   ]
  },
  {
   "cell_type": "markdown",
   "id": "37d95115-1a52-4656-b6e1-39f027ce2db0",
   "metadata": {},
   "source": [
    "# memory"
   ]
  },
  {
   "cell_type": "code",
   "execution_count": 123,
   "id": "6b3f8190-a9e2-46ae-a6ee-1e648189b26b",
   "metadata": {
    "tags": []
   },
   "outputs": [],
   "source": [
    "from langchain.memory import ConversationSummaryMemory\n",
    "memory = ConversationSummaryMemory(memory_key=\"chat_history\", llm=AzureChatOpenAI(openai_api_base=AZURE_OPENAI_ENDPOINT\n",
    "                 ,openai_api_key=AZURE_OPENAI_KEY\n",
    "                 ,openai_api_type='azure'\n",
    "                 ,openai_api_version=\"2023-05-15\"\n",
    "                 ,deployment_name =AZURE_ENGINE_NAME\n",
    "                 ,model = \"gpt-3.5-turbo\"\n",
    "                 ,temperature=0\n",
    "               ), return_messages=True)"
   ]
  },
  {
   "cell_type": "markdown",
   "id": "e96b02af-90f0-46de-a433-18d16d0508f9",
   "metadata": {},
   "source": [
    "# alternative - qa chain type stuff - BEST"
   ]
  },
  {
   "cell_type": "code",
   "execution_count": 124,
   "id": "121592dc-9e16-4c84-9621-fb8fae5cddb8",
   "metadata": {
    "tags": []
   },
   "outputs": [],
   "source": [
    "from langchain.memory import ConversationBufferMemory\n",
    "memory = ConversationBufferMemory(memory_key=\"chat_history\", input_key=\"question\")"
   ]
  },
  {
   "cell_type": "code",
   "execution_count": 125,
   "id": "51326a97-8d6c-41f0-82bd-c59fa6f5bf6c",
   "metadata": {
    "tags": []
   },
   "outputs": [],
   "source": [
    "from langchain.memory import ConversationSummaryMemory\n",
    "memory = ConversationSummaryMemory(memory_key=\"chat_history\", llm=AzureChatOpenAI(openai_api_base=AZURE_OPENAI_ENDPOINT\n",
    "         ,openai_api_key=AZURE_OPENAI_KEY\n",
    "         ,openai_api_type='azure'\n",
    "         ,openai_api_version=\"2023-05-15\"\n",
    "         ,deployment_name =AZURE_ENGINE_NAME\n",
    "         ,model = \"gpt-3.5-turbo\"\n",
    "         ,temperature=0.1\n",
    "    ), return_messages=True, input_key=\"question\")"
   ]
  },
  {
   "cell_type": "code",
   "execution_count": 165,
   "id": "0fb35581-8b2b-4fd9-95b2-6557fd7258bd",
   "metadata": {
    "tags": []
   },
   "outputs": [],
   "source": [
    "prompt_template = \"\"\"Given the following information regarding company workers, give three recommendations about the best person to talk about a given topic.\n",
    "\n",
    "{context}\n",
    "\n",
    "Topic: {question}\n",
    "\"\"\"\n",
    "PROMPT = PromptTemplate(\n",
    "    template=prompt_template, input_variables=[\"context\", \"question\"]\n",
    ")\n",
    "chain = load_qa_chain(ai, chain_type=\"stuff\", prompt=PROMPT, memory=memory)"
   ]
  },
  {
   "cell_type": "code",
   "execution_count": 167,
   "id": "09f64be6-a0f2-411f-b2d9-af58d70c23b2",
   "metadata": {
    "tags": []
   },
   "outputs": [
    {
     "data": {
      "text/plain": [
       "{'output_text': \"1. Gabe Newell - as the CEO and co-founder of Valve, he would have a deep understanding of the company's structure and values, as well as the long-term goals and vision for the company.\\n\\n2. Sarah Thompson - as the Human Resources Manager, she would have a thorough understanding of the company's culture and values, as well as the hiring process and how new employees are onboarded into the company.\\n\\n3. Michelle Clark - as a Project Manager, she would have experience working within the flat structure of Valve and could provide insight into how employees prioritize their work and collaborate on projects without traditional management structures.\"}"
      ]
     },
     "execution_count": 167,
     "metadata": {},
     "output_type": "execute_result"
    }
   ],
   "source": [
    "query=\"The handbook for new employees at Valve describes the company as having a flat structure, where there is no management and nobody reports to anybody else. Employees are encouraged to pick their own projects and are responsible for prioritizing their own work. The company is described as being focused on creating a place where talented individuals are empowered to put their best work into the hands of millions of people, with very little in their way. The handbook also emphasizes the importance of hiring and the responsibility of all employees to focus on the long-term goals of the company\"\n",
    "chain({\"input_documents\": vectordb.similarity_search(query,k=3), \"question\": query}, return_only_outputs=True)"
   ]
  },
  {
   "cell_type": "code",
   "execution_count": 63,
   "id": "faa30344-a268-445c-9363-acde6254e058",
   "metadata": {
    "tags": []
   },
   "outputs": [
    {
     "name": "stdout",
     "output_type": "stream",
     "text": [
      "The human asks the AI about the most important information in a document, and the AI responds that the unique structure and culture of Valve, as described in their handbook for new employees, is the most important information. The handbook emphasizes a flat organization where employees have freedom to choose their own projects and make decisions without traditional management. The company is focused on empowering talented individuals to put their best work into the hands of millions of people, with very little in their way. According to the AI, the first thing to do when joining Valve is to read the \"Handbook for New Employees.\"\n"
     ]
    }
   ],
   "source": [
    "print(chain.memory.buffer)"
   ]
  },
  {
   "cell_type": "code",
   "execution_count": 64,
   "id": "b8903ea3-713a-4946-83bb-15b29c535279",
   "metadata": {
    "tags": []
   },
   "outputs": [
    {
     "data": {
      "text/plain": [
       "[HumanMessage(content='What is the most important information in the document?', additional_kwargs={}, example=False),\n",
       " AIMessage(content=\"The most important information in the document is the unique structure and culture of Valve as a flat organization where employees have the freedom to choose their own projects and make decisions without traditional management. This is emphasized throughout the handbook and is a key aspect of Valve's approach to work. (Source: Valve Handbook for New Employees, various pages)\", additional_kwargs={}, example=False),\n",
       " HumanMessage(content='How is it to work at Valve?', additional_kwargs={}, example=False),\n",
       " AIMessage(content='Answer: The handbook for new employees at Valve describes the company as having a flat structure, where there is no management and nobody reports to anybody else. Employees are encouraged to pick their own projects and are responsible for prioritizing their own work. The company is described as being focused on creating a place where talented individuals are empowered to put their best work into the hands of millions of people, with very little in their way. The handbook also emphasizes the importance of hiring and the responsibility of all employees to focus on the long-term goals of the company. Source: Valve: Handbook for New Employees, pages vii-ix, 1-2, 7-11.', additional_kwargs={}, example=False),\n",
       " HumanMessage(content='What is the first thing to do when joining Valve?', additional_kwargs={}, example=False),\n",
       " AIMessage(content='The first thing to do when joining Valve is to read the \"Handbook for New Employees.\" (Source: \"Handbook for New Employees\" Preface, page vii)', additional_kwargs={}, example=False)]"
      ]
     },
     "execution_count": 64,
     "metadata": {},
     "output_type": "execute_result"
    }
   ],
   "source": [
    "chain.memory.chat_memory.messages"
   ]
  },
  {
   "cell_type": "code",
   "execution_count": 29,
   "id": "d4838928-1c8f-4aaf-a7b4-fb5f4aa1eac1",
   "metadata": {
    "tags": []
   },
   "outputs": [],
   "source": []
  },
  {
   "cell_type": "code",
   "execution_count": null,
   "id": "85c81912-1617-4d07-873e-f086834ca5fe",
   "metadata": {},
   "outputs": [],
   "source": []
  }
 ],
 "metadata": {
  "kernelspec": {
   "display_name": "venv",
   "language": "python",
   "name": "venv"
  },
  "language_info": {
   "codemirror_mode": {
    "name": "ipython",
    "version": 3
   },
   "file_extension": ".py",
   "mimetype": "text/x-python",
   "name": "python",
   "nbconvert_exporter": "python",
   "pygments_lexer": "ipython3",
   "version": "3.11.4"
  }
 },
 "nbformat": 4,
 "nbformat_minor": 5
}
